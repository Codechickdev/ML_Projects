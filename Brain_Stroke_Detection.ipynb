{
 "cells": [
  {
   "cell_type": "markdown",
   "metadata": {},
   "source": [
    "# Brain Stroke Detection\n",
    "\n",
    "### ToDo\n",
    "- [x] Download Dataset\n",
    "- [ ] Exploratory Data Analysis\n",
    "- [ ] Data Preprocessing\n",
    "- [ ] Training Model\n",
    "- [ ] HyperTuning\n",
    "- [ ] Evaluating\n",
    "\n",
    "### Other Ideas\n",
    "- [ ] Feature Engineer"
   ]
  },
  {
   "cell_type": "code",
   "execution_count": 1,
   "metadata": {},
   "outputs": [
    {
     "data": {
      "text/plain": [
       "['dataset',\n",
       " '.gitignore',\n",
       " 'README.md',\n",
       " '.kaggle',\n",
       " '.git',\n",
       " 'Brain_Stroke_Detection.ipynb',\n",
       " 'requirements.txt',\n",
       " 'modified_dataset']"
      ]
     },
     "execution_count": 1,
     "metadata": {},
     "output_type": "execute_result"
    }
   ],
   "source": [
    "import os\n",
    "\n",
    "os.listdir()"
   ]
  },
  {
   "cell_type": "code",
   "execution_count": 9,
   "metadata": {},
   "outputs": [
    {
     "name": "stdout",
     "output_type": "stream",
     "text": [
      "Downloading brain-stroke-dataset.zip to ./dataset/brain-stroke-dataset\n"
     ]
    },
    {
     "name": "stderr",
     "output_type": "stream",
     "text": [
      "100%|██████████| 47.2k/47.2k [00:00<00:00, 1.16MB/s]"
     ]
    },
    {
     "name": "stdout",
     "output_type": "stream",
     "text": [
      "\n"
     ]
    },
    {
     "name": "stderr",
     "output_type": "stream",
     "text": [
      "\n"
     ]
    }
   ],
   "source": [
    "# Download Dataset\n",
    "\n",
    "import os\n",
    "import opendatasets as od\n",
    "\n",
    "dataDir = os.listdir(path = './dataset')\n",
    "\n",
    "DATA_URL = 'https://www.kaggle.com/datasets/jillanisofttech/brain-stroke-dataset'\n",
    "\n",
    "def downloadDataset(url = DATA_URL):\n",
    "    if 'brain-stroke-dataset' in dataDir:\n",
    "        print(\"Dataset Already There ...\")\n",
    "    else:\n",
    "        od.download(DATA_URL, data_dir = './dataset/')\n",
    "\n",
    "\n",
    "downloadDataset()"
   ]
  },
  {
   "cell_type": "code",
   "execution_count": 10,
   "metadata": {},
   "outputs": [],
   "source": [
    "# Exploratory Data Analysis\n",
    "\n",
    "import numpy as np\n",
    "import pandas as pd\n",
    "\n",
    "import seaborn as sns\n",
    "import matplotlib.pyplot as plt"
   ]
  }
 ],
 "metadata": {
  "kernelspec": {
   "display_name": "Python 3.8.10 ('ml')",
   "language": "python",
   "name": "python3"
  },
  "language_info": {
   "codemirror_mode": {
    "name": "ipython",
    "version": 3
   },
   "file_extension": ".py",
   "mimetype": "text/x-python",
   "name": "python",
   "nbconvert_exporter": "python",
   "pygments_lexer": "ipython3",
   "version": "3.8.10"
  },
  "orig_nbformat": 4,
  "vscode": {
   "interpreter": {
    "hash": "dbd0d9e9504f64e3d21b57f6dcb65589324ad9d09ef83f51fac0901ceed1f84f"
   }
  }
 },
 "nbformat": 4,
 "nbformat_minor": 2
}
