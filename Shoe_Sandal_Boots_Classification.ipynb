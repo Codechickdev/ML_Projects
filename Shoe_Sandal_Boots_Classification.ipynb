{
  "nbformat": 4,
  "nbformat_minor": 0,
  "metadata": {
    "colab": {
      "provenance": [],
      "collapsed_sections": [],
      "authorship_tag": "ABX9TyNDMlVzHsF7L4tfNZnBgwpp",
      "include_colab_link": true
    },
    "kernelspec": {
      "name": "python3",
      "display_name": "Python 3"
    },
    "language_info": {
      "name": "python"
    },
    "accelerator": "GPU",
    "gpuClass": "standard"
  },
  "cells": [
    {
      "cell_type": "markdown",
      "metadata": {
        "id": "view-in-github",
        "colab_type": "text"
      },
      "source": [
        "<a href=\"https://colab.research.google.com/github/Codechickdev/ML_Projects/blob/main/Shoe_Sandal_Boots_Classification.ipynb\" target=\"_parent\"><img src=\"https://colab.research.google.com/assets/colab-badge.svg\" alt=\"Open In Colab\"/></a>"
      ]
    },
    {
      "cell_type": "markdown",
      "source": [
        "# Shoe Sandal Boots Classification"
      ],
      "metadata": {
        "id": "qKhSODbBxoef"
      }
    },
    {
      "cell_type": "code",
      "source": [
        "%%bash\n",
        "\n",
        "pip install opendatasets --quiet"
      ],
      "metadata": {
        "id": "69N6PuWqx3eW"
      },
      "execution_count": 1,
      "outputs": []
    },
    {
      "cell_type": "code",
      "execution_count": 2,
      "metadata": {
        "id": "yrJNX70RxO_P"
      },
      "outputs": [],
      "source": [
        "import os\n",
        "import numpy as np\n",
        "import matplotlib.pyplot as plt\n",
        "\n",
        "import opendatasets as od\n",
        "\n",
        "import tensorflow as tf\n",
        "\n",
        "import logging\n",
        "logger = tf.get_logger()\n",
        "logger.setLevel(logging.ERROR)"
      ]
    },
    {
      "cell_type": "code",
      "source": [
        "URL = 'https://www.kaggle.com/datasets/hasibalmuzdadid/shoe-vs-sandal-vs-boot-dataset-15k-images'\n",
        "\n",
        "od.download(URL)"
      ],
      "metadata": {
        "colab": {
          "base_uri": "https://localhost:8080/"
        },
        "id": "HU1tujgvx2kU",
        "outputId": "ac23f4e4-9316-48d8-a7ba-5fddacb17011"
      },
      "execution_count": 3,
      "outputs": [
        {
          "output_type": "stream",
          "name": "stdout",
          "text": [
            "Downloading shoe-vs-sandal-vs-boot-dataset-15k-images.zip to ./shoe-vs-sandal-vs-boot-dataset-15k-images\n"
          ]
        },
        {
          "output_type": "stream",
          "name": "stderr",
          "text": [
            "100%|██████████| 47.0M/47.0M [00:02<00:00, 16.5MB/s]\n"
          ]
        },
        {
          "output_type": "stream",
          "name": "stdout",
          "text": [
            "\n"
          ]
        }
      ]
    },
    {
      "cell_type": "code",
      "source": [
        "gpus = tf.config.experimental.list_physical_devices('GPU')\n",
        "for gpu in gpus: \n",
        "    tf.config.experimental.set_memory_growth(gpu, True)\n",
        "\n",
        "print(\"Num GPUs Available: \", len(tf.config.list_physical_devices('GPU')))"
      ],
      "metadata": {
        "colab": {
          "base_uri": "https://localhost:8080/"
        },
        "id": "bV38IlNSyY1l",
        "outputId": "503cf9f6-5fc8-4faf-d562-04fe689e4408"
      },
      "execution_count": 4,
      "outputs": [
        {
          "output_type": "stream",
          "name": "stdout",
          "text": [
            "Num GPUs Available:  1\n"
          ]
        }
      ]
    },
    {
      "cell_type": "code",
      "source": [
        "dataGen = tf.keras.preprocessing.image.ImageDataGenerator(rescale = 1/255)"
      ],
      "metadata": {
        "id": "w9V8B7O_y-XQ"
      },
      "execution_count": 5,
      "outputs": []
    },
    {
      "cell_type": "code",
      "source": [
        "data = dataGen.flow_from_directory(\n",
        "    directory = '/content/shoe-vs-sandal-vs-boot-dataset-15k-images/Shoe vs Sandal vs Boot Dataset',\n",
        "    target_size = (200, 200),\n",
        "    batch_size = 500,\n",
        "    class_mode = 'categorical'\n",
        ")"
      ],
      "metadata": {
        "colab": {
          "base_uri": "https://localhost:8080/"
        },
        "id": "uNWCGzy9zRDZ",
        "outputId": "0cca9970-d0d8-4f81-ea88-e4a3b0ebbdd7"
      },
      "execution_count": 7,
      "outputs": [
        {
          "output_type": "stream",
          "name": "stdout",
          "text": [
            "Found 15000 images belonging to 3 classes.\n"
          ]
        }
      ]
    },
    {
      "cell_type": "code",
      "source": [
        "model = tf.keras.Sequential([\n",
        "    tf.keras.layers.Conv2D(filters = 32, kernel_size = (3, 3), strides = 1, padding = 'same', activation = tf.nn.relu, input_shape = (200, 200, 3)),\n",
        "    tf.keras.layers.MaxPooling2D((2, 2)),\n",
        "    tf.keras.layers.Conv2D(filters = 64, kernel_size = (3, 3), strides = 1, padding = 'same', activation = tf.nn.relu),\n",
        "    tf.keras.layers.MaxPooling2D((2, 2)),\n",
        "    tf.keras.layers.Conv2D(filters = 128, kernel_size = (3, 3), strides = 1, padding = 'same', activation = tf.nn.relu),\n",
        "    tf.keras.layers.MaxPooling2D((2, 2)),\n",
        "    tf.keras.layers.Flatten(),\n",
        "    tf.keras.layers.Dense(128, activation = tf.nn.relu),\n",
        "    tf.keras.layers.Dropout(0.25),\n",
        "    tf.keras.layers.Dense(128, activation = tf.nn.relu),\n",
        "    tf.keras.layers.Dense(3, activation = tf.nn.softmax)\n",
        "])"
      ],
      "metadata": {
        "id": "osxGvqR0ze2W"
      },
      "execution_count": 8,
      "outputs": []
    },
    {
      "cell_type": "code",
      "source": [
        "model.compile(\n",
        "    loss = 'categorical_crossentropy',\n",
        "    optimizer = 'adam',\n",
        "    metrics = ['acc']\n",
        ")"
      ],
      "metadata": {
        "id": "2uyu9KLH0yI0"
      },
      "execution_count": 9,
      "outputs": []
    },
    {
      "cell_type": "code",
      "source": [
        "model.summary()"
      ],
      "metadata": {
        "colab": {
          "base_uri": "https://localhost:8080/"
        },
        "id": "rkwT8gUN0-az",
        "outputId": "03a932ba-a346-4c54-966a-9d787d6e8372"
      },
      "execution_count": 10,
      "outputs": [
        {
          "output_type": "stream",
          "name": "stdout",
          "text": [
            "Model: \"sequential\"\n",
            "_________________________________________________________________\n",
            " Layer (type)                Output Shape              Param #   \n",
            "=================================================================\n",
            " conv2d (Conv2D)             (None, 200, 200, 32)      896       \n",
            "                                                                 \n",
            " max_pooling2d (MaxPooling2D  (None, 100, 100, 32)     0         \n",
            " )                                                               \n",
            "                                                                 \n",
            " conv2d_1 (Conv2D)           (None, 100, 100, 64)      18496     \n",
            "                                                                 \n",
            " max_pooling2d_1 (MaxPooling  (None, 50, 50, 64)       0         \n",
            " 2D)                                                             \n",
            "                                                                 \n",
            " conv2d_2 (Conv2D)           (None, 50, 50, 128)       73856     \n",
            "                                                                 \n",
            " max_pooling2d_2 (MaxPooling  (None, 25, 25, 128)      0         \n",
            " 2D)                                                             \n",
            "                                                                 \n",
            " flatten (Flatten)           (None, 80000)             0         \n",
            "                                                                 \n",
            " dense (Dense)               (None, 128)               10240128  \n",
            "                                                                 \n",
            " dropout (Dropout)           (None, 128)               0         \n",
            "                                                                 \n",
            " dense_1 (Dense)             (None, 128)               16512     \n",
            "                                                                 \n",
            " dense_2 (Dense)             (None, 3)                 387       \n",
            "                                                                 \n",
            "=================================================================\n",
            "Total params: 10,350,275\n",
            "Trainable params: 10,350,275\n",
            "Non-trainable params: 0\n",
            "_________________________________________________________________\n"
          ]
        }
      ]
    },
    {
      "cell_type": "code",
      "source": [
        "model.fit(data, epochs = 10, batch_size = 32)"
      ],
      "metadata": {
        "colab": {
          "base_uri": "https://localhost:8080/"
        },
        "id": "uNYg-c_q1Ai0",
        "outputId": "13a5ad7b-ad2d-4dc9-fdb3-d9bac422633c"
      },
      "execution_count": 11,
      "outputs": [
        {
          "output_type": "stream",
          "name": "stdout",
          "text": [
            "Epoch 1/10\n",
            "30/30 [==============================] - 35s 684ms/step - loss: 0.9655 - acc: 0.6137\n",
            "Epoch 2/10\n",
            "30/30 [==============================] - 21s 689ms/step - loss: 0.3109 - acc: 0.8852\n",
            "Epoch 3/10\n",
            "30/30 [==============================] - 21s 686ms/step - loss: 0.1931 - acc: 0.9312\n",
            "Epoch 4/10\n",
            "30/30 [==============================] - 20s 662ms/step - loss: 0.1411 - acc: 0.9502\n",
            "Epoch 5/10\n",
            "30/30 [==============================] - 21s 686ms/step - loss: 0.1045 - acc: 0.9637\n",
            "Epoch 6/10\n",
            "30/30 [==============================] - 21s 677ms/step - loss: 0.0883 - acc: 0.9701\n",
            "Epoch 7/10\n",
            "30/30 [==============================] - 22s 706ms/step - loss: 0.0703 - acc: 0.9761\n",
            "Epoch 8/10\n",
            "30/30 [==============================] - 27s 906ms/step - loss: 0.0575 - acc: 0.9807\n",
            "Epoch 9/10\n",
            "30/30 [==============================] - 28s 903ms/step - loss: 0.0471 - acc: 0.9843\n",
            "Epoch 10/10\n",
            "30/30 [==============================] - 21s 685ms/step - loss: 0.0413 - acc: 0.9855\n"
          ]
        },
        {
          "output_type": "execute_result",
          "data": {
            "text/plain": [
              "<keras.callbacks.History at 0x7fe9dbcea950>"
            ]
          },
          "metadata": {},
          "execution_count": 11
        }
      ]
    }
  ]
}