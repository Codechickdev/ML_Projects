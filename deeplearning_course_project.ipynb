{
  "cells": [
    {
      "cell_type": "markdown",
      "metadata": {
        "id": "IOWFIIuZr_4u"
      },
      "source": [
        "# Deep Learning Final Project\n",
        "\n",
        "## Reference\n",
        "- [Dataset Link](https://www.kaggle.com/datasets/hadiepratamatulili/anime-vs-cartoon-vs-human)\n",
        "\n",
        "\n",
        "## Problem Statement\n",
        "\n",
        "- Given a dataset contains images `Anime`, `Human`, `Cartoon`, and we are asked to classify into those three categoriesa\n",
        "- It's a `Classification` Problem.\n",
        "- Given Dataset is `Images`\n",
        "\n",
        "## Solution\n",
        "- By using `Pytorch's Neural Networks`"
      ]
    },
    {
      "cell_type": "markdown",
      "metadata": {
        "id": "8WlUpCgrNFvr"
      },
      "source": [
        "### Step - 1 Prepare Notebook\n",
        "\n",
        "For download dataset from kaggle, we can use opendatasets library and for "
      ]
    },
    {
      "cell_type": "code",
      "execution_count": null,
      "metadata": {
        "id": "ErV3NFvWr_4x"
      },
      "outputs": [],
      "source": [
        "!pip install opendatasets jovian --quiet --upgrade"
      ]
    },
    {
      "cell_type": "code",
      "execution_count": null,
      "metadata": {
        "id": "Rd6JgIhiL3bj"
      },
      "outputs": [],
      "source": [
        "import os\n",
        "import numpy as np\n",
        "import opendatasets as od\n",
        "\n",
        "import matplotlib.pyplot as plt\n",
        "%matplotlib inline\n",
        "\n",
        "import warnings\n",
        "warnings.filterwarnings('ignore')"
      ]
    },
    {
      "cell_type": "markdown",
      "source": [
        "### Step - 2 Download Dataset"
      ],
      "metadata": {
        "id": "hMJNatC6xU1T"
      }
    },
    {
      "cell_type": "code",
      "execution_count": null,
      "metadata": {
        "id": "L-t1Lf-fMCeU"
      },
      "outputs": [],
      "source": [
        "DATASET_URL = 'https://www.kaggle.com/datasets/hadiepratamatulili/anime-vs-cartoon-vs-human'\n",
        "od.download(DATASET_URL)"
      ]
    },
    {
      "cell_type": "markdown",
      "metadata": {
        "id": "8l_S2fAuPbRO"
      },
      "source": [
        "Let's take and look at the parent directory which we had download"
      ]
    },
    {
      "cell_type": "code",
      "execution_count": null,
      "metadata": {
        "id": "dssUhrQpOkke"
      },
      "outputs": [],
      "source": [
        "PARENT_DIR = '/content/anime-vs-cartoon-vs-human/Data'\n",
        "\n",
        "os.listdir(PARENT_DIR)"
      ]
    },
    {
      "cell_type": "markdown",
      "source": [
        "We have images seperated into folders. Let's find the sizes of each folders"
      ],
      "metadata": {
        "id": "k3oA20_eyPAQ"
      }
    },
    {
      "cell_type": "code",
      "source": [
        "for i in os.listdir(PARENT_DIR):\n",
        "    print(f\"Folder {i} with Size {len(os.listdir(PARENT_DIR + '/' + i))}\")"
      ],
      "metadata": {
        "id": "ybPmSGqxx-1j"
      },
      "execution_count": null,
      "outputs": []
    },
    {
      "cell_type": "markdown",
      "source": [
        "### Step - 3 Explore Dataset\n",
        "\n",
        "Let's look again and explore our dataset"
      ],
      "metadata": {
        "id": "DpItWwnHyA-4"
      }
    },
    {
      "cell_type": "code",
      "source": [
        "from PIL import Image\n",
        "import random\n",
        "\n",
        "def plotRawImage(DATA_DIR, num):\n",
        "    \"\"\"\n",
        "    Function to plot raw images from the directory\n",
        "    \"\"\"\n",
        "    size = len(DATA_DIR)\n",
        "    data = os.listdir(DATA_DIR)\n",
        "    img = Image.open(DATA_DIR + '/' + data[num])\n",
        "    print(f'Image Size: {img.size}')\n",
        "    return img"
      ],
      "metadata": {
        "id": "HlVeqBntysGI"
      },
      "execution_count": null,
      "outputs": []
    },
    {
      "cell_type": "code",
      "source": [
        "plotRawImage('/content/anime-vs-cartoon-vs-human/Data/anime', 5)"
      ],
      "metadata": {
        "id": "l8DLh23j_8X6"
      },
      "execution_count": null,
      "outputs": []
    },
    {
      "cell_type": "code",
      "source": [
        "plotRawImage('/content/anime-vs-cartoon-vs-human/Data/cartoon', 556)"
      ],
      "metadata": {
        "id": "cJ7yjS81AAL3"
      },
      "execution_count": null,
      "outputs": []
    },
    {
      "cell_type": "markdown",
      "source": [
        "On Exploring, we came to know that each image has it's `own size`. We can re-size all images in specific size, which makes computation easy"
      ],
      "metadata": {
        "id": "-hV5hv-XBS6q"
      }
    },
    {
      "cell_type": "markdown",
      "source": [
        "### Step - 4 Load and Preprocess Dataset\n",
        "\n",
        "We can use various `pytorch's` class like `ImageFolder`, `Dataset` and some `transform` functions."
      ],
      "metadata": {
        "id": "7Mfeh1pBBuxo"
      }
    },
    {
      "cell_type": "code",
      "source": [
        "import torch\n",
        "import torch.nn as nn\n",
        "import torchvision.transforms as tt\n",
        "from torchvision.utils import make_grid\n",
        "from torchvision.datasets import ImageFolder\n",
        "from torch.utils.data import random_split, DataLoader"
      ],
      "metadata": {
        "id": "QvhmQjOcBS1s"
      },
      "execution_count": null,
      "outputs": []
    },
    {
      "cell_type": "code",
      "source": [
        "sampleDataset = ImageFolder(PARENT_DIR)\n",
        "\"Total Length of Dataset :\", len(sampleDataset)"
      ],
      "metadata": {
        "id": "qb_ScSaXBLCO"
      },
      "execution_count": null,
      "outputs": []
    },
    {
      "cell_type": "code",
      "source": [
        "classes = sampleDataset.classes\n",
        "classes"
      ],
      "metadata": {
        "id": "gzR3lzHPHYo0"
      },
      "execution_count": null,
      "outputs": []
    },
    {
      "cell_type": "code",
      "source": [
        "sampleDataset = ImageFolder(PARENT_DIR, transform = tt.ToTensor()) # Changes from pixel to tensor"
      ],
      "metadata": {
        "id": "RaX2BqQeIT5O"
      },
      "execution_count": null,
      "outputs": []
    },
    {
      "cell_type": "code",
      "source": [
        "for img, _ in sampleDataset:\n",
        "    print(img.size())\n",
        "    break"
      ],
      "metadata": {
        "id": "xFiybRrmIHBl"
      },
      "execution_count": null,
      "outputs": []
    },
    {
      "cell_type": "code",
      "source": [
        "img, _ = sampleDataset[848]\n",
        "print(img.size())"
      ],
      "metadata": {
        "id": "vRNt3rAPI4K5"
      },
      "execution_count": null,
      "outputs": []
    },
    {
      "cell_type": "code",
      "source": [
        "img, _ = sampleDataset[8448]\n",
        "print(img.size())"
      ],
      "metadata": {
        "id": "11zTIri_Ic_X"
      },
      "execution_count": null,
      "outputs": []
    },
    {
      "cell_type": "markdown",
      "source": [
        "Now if you look back, we have images varying from size to size, Let's `resize` every image and add some `agumentation` to the images to avoid `overfitting`"
      ],
      "metadata": {
        "id": "IID6UQWmH0tQ"
      }
    },
    {
      "cell_type": "code",
      "source": [
        "# Changing to Tensor and Applying Data Agumentation\n",
        "\n",
        "dataFolder = ImageFolder(\n",
        "    PARENT_DIR,\n",
        "    tt.Compose([\n",
        "        tt.Resize(64), # Resize to 3x64x64\n",
        "        tt.RandomCrop(32, pad_if_needed = True), # Cropping Half Image\n",
        "        tt.RandomRotation(degrees = 55),\n",
        "        tt.ToTensor()\n",
        "    ])\n",
        ")"
      ],
      "metadata": {
        "id": "SlBgDAiOHs_D"
      },
      "execution_count": null,
      "outputs": []
    },
    {
      "cell_type": "code",
      "source": [
        "for i in [4, 44, 444, 4444]:\n",
        "    img, _ = dataFolder[i]\n",
        "    print(f\"Image Shape: {img.size()}\")"
      ],
      "metadata": {
        "id": "Qb_7jlDlJ-KY"
      },
      "execution_count": null,
      "outputs": []
    },
    {
      "cell_type": "code",
      "source": [
        "def plotTensor(num):\n",
        "    \"\"\"Plot Tensors after Image Augmentation\"\"\"\n",
        "    img, _ = dataFolder[num]\n",
        "    plt.imshow(img.permute((1, 2, 0)))\n",
        "    plt.show()"
      ],
      "metadata": {
        "id": "6UgJavMvJgMr"
      },
      "execution_count": null,
      "outputs": []
    },
    {
      "cell_type": "code",
      "source": [
        "plotTensor(7654)"
      ],
      "metadata": {
        "id": "VLy87IeaKmhm"
      },
      "execution_count": null,
      "outputs": []
    },
    {
      "cell_type": "code",
      "source": [
        "plotTensor(76)"
      ],
      "metadata": {
        "id": "eN_DrUMoKoa2"
      },
      "execution_count": null,
      "outputs": []
    },
    {
      "cell_type": "markdown",
      "source": [
        "As we see, Our Dataset is at final stage, Just splitting for traning and validation is left, Our Model will not like to overfit but `DataAugmentation` and `Validating`.\n",
        "Let's split the dataset. We need only `2%` of the original dataset for validation"
      ],
      "metadata": {
        "id": "ZuEQyEMOLWx-"
      }
    },
    {
      "cell_type": "code",
      "source": [
        "valFrac = 0.2\n",
        "valLength = int(valFrac * len(dataFolder))\n",
        "\n",
        "trainLength = len(dataFolder) - valLength\n",
        "\n",
        "trainLength, valLength"
      ],
      "metadata": {
        "id": "Ze6vEybTLUA-"
      },
      "execution_count": null,
      "outputs": []
    },
    {
      "cell_type": "code",
      "source": [
        "train_ds, val_ds = random_split(dataFolder, [trainLength, valLength])\n",
        "\n",
        "len(train_ds), len(val_ds)"
      ],
      "metadata": {
        "id": "HHn-aDo4LveW"
      },
      "execution_count": null,
      "outputs": []
    },
    {
      "cell_type": "markdown",
      "source": [
        "and Now let's create a `DataLoader` with **128** batches with Pytorch"
      ],
      "metadata": {
        "id": "-Dx6kt9TL89l"
      }
    },
    {
      "cell_type": "code",
      "source": [
        "batchSize = 128\n",
        "\n",
        "train_dl = DataLoader(\n",
        "    train_ds, \n",
        "    batch_size = batchSize,\n",
        "    shuffle = True,\n",
        "    num_workers = 4,\n",
        "    pin_memory = True\n",
        ")\n",
        "\n",
        "val_dl = DataLoader(\n",
        "    val_ds, \n",
        "    batch_size = batchSize,\n",
        "    num_workers = 4,\n",
        "    pin_memory = True\n",
        ")"
      ],
      "metadata": {
        "id": "NFnj1ISELydW"
      },
      "execution_count": null,
      "outputs": []
    },
    {
      "cell_type": "markdown",
      "source": [
        "We saw as seperate Images, Let's vizualize as batches"
      ],
      "metadata": {
        "id": "HEgL1XjRMVBr"
      }
    },
    {
      "cell_type": "code",
      "source": [
        "def plotBatch(dataLoader):\n",
        "    \"\"\"Function to Plot as Batch\"\"\"\n",
        "    for images, label in dataLoader:\n",
        "        fig, ax = plt.subplots(figsize = (14, 8))\n",
        "        ax.set_xticks([]), ax.set_yticks([])\n",
        "        ax.imshow(make_grid(images, nrow = 16).permute((1, 2, 0)))\n",
        "        break\n",
        "    \n",
        "plotBatch(train_dl)"
      ],
      "metadata": {
        "id": "6KCQ5S0OMHOb"
      },
      "execution_count": null,
      "outputs": []
    },
    {
      "cell_type": "code",
      "source": [
        "plotBatch(val_dl)"
      ],
      "metadata": {
        "id": "oiHH8qP0MiGY"
      },
      "execution_count": null,
      "outputs": []
    },
    {
      "cell_type": "markdown",
      "source": [
        "### Step - 5 Config GPU\n",
        "\n",
        "In this step we setup our code that can even run on `GPU/CUDA` if available"
      ],
      "metadata": {
        "id": "1BXZlIzmM6B9"
      }
    },
    {
      "cell_type": "code",
      "source": [
        "def getDevice():\n",
        "    # Function to Get Default Device\n",
        "    if torch.cuda.is_available():\n",
        "        return torch.device('cuda')\n",
        "    return torch.device('cpu')\n",
        "\n",
        "def transferToDevice(data, device):\n",
        "    \"\"\"\n",
        "    Function to transfer Model and DataLoader to GPU\n",
        "    \"\"\"\n",
        "    if isinstance(data, (list, tuple)):\n",
        "        return [transferToDevice(x, device) for x in data]\n",
        "    return data.to(device, non_blocking = True)\n",
        "\n",
        "\n",
        "class DeviceDataLoader():\n",
        "    def __init__(self, dataLoader, device):\n",
        "        self.dataLoader = dataLoader\n",
        "        self.device = device\n",
        "    \n",
        "    def __iter__(self):\n",
        "        for b in self.dataLoader:\n",
        "            yield transferToDevice(b, self.device)\n",
        "        \n",
        "    def __len__(self):\n",
        "        return len(self.dataLoader)"
      ],
      "metadata": {
        "id": "Q-FrohZhM2_u"
      },
      "execution_count": null,
      "outputs": []
    },
    {
      "cell_type": "markdown",
      "source": [
        "We created config functions and classes, Let's test it\n",
        "1. By checking if gpu is available\n",
        "2. By Changing the images from the data loader"
      ],
      "metadata": {
        "id": "VRgG1VwVO7Nm"
      }
    },
    {
      "cell_type": "code",
      "source": [
        "defaultDevice = getDevice()\n",
        "defaultDevice"
      ],
      "metadata": {
        "id": "wtlnOq9WPYk-"
      },
      "execution_count": null,
      "outputs": []
    },
    {
      "cell_type": "code",
      "source": [
        "for images, _ in train_dl:\n",
        "    print(f\"Device Before: {images.device}\")\n",
        "    configedImage = transferToDevice(images, defaultDevice)\n",
        "    print(f\"Device After: {configedImage.device}\")\n",
        "    break"
      ],
      "metadata": {
        "id": "BZ6Un9xZMvYO"
      },
      "execution_count": null,
      "outputs": []
    },
    {
      "cell_type": "markdown",
      "source": [
        "We transfered Sample Tensor from CPU to Cuda. Now let's change the whole DataLoader"
      ],
      "metadata": {
        "id": "eO81lU5eQAk3"
      }
    },
    {
      "cell_type": "code",
      "source": [
        "train_dl = DeviceDataLoader(train_dl, defaultDevice)\n",
        "val_dl = DeviceDataLoader(val_dl, defaultDevice)"
      ],
      "metadata": {
        "id": "8tyEWgp6MxOg"
      },
      "execution_count": null,
      "outputs": []
    },
    {
      "cell_type": "code",
      "source": [
        "train_dl.device, val_dl.device"
      ],
      "metadata": {
        "id": "byRVl-8JQLBo"
      },
      "execution_count": null,
      "outputs": []
    },
    {
      "cell_type": "markdown",
      "source": [
        "### Step - 6 Model Traning\n",
        "\n",
        "We will use `Convoluation Neural Network`."
      ],
      "metadata": {
        "id": "qeTMoRstQTA3"
      }
    },
    {
      "cell_type": "code",
      "source": [
        "class CNN_Model(nn.Module):\n",
        "    def __init__(self):\n",
        "        super().__init__()\n",
        "\n",
        "        self.network = nn.Sequential(\n",
        "            nn.Conv2d(3, 32, kernel_size = 3, padding = 1),\n",
        "            nn.ReLU(),\n",
        "            nn.Conv2d(32, 64, kernel_size = 3, padding = 1, stride = 1),\n",
        "            nn.ReLU(),\n",
        "            nn.MaxPool2d(2, 2),\n",
        "            nn.Conv2d(64, 128, kernel_size = 3, padding = 1, stride = 1),\n",
        "            nn.ReLU(),\n",
        "            nn.Conv2d(128, 128, kernel_size = 3, padding = 1, stride = 1),\n",
        "            nn.ReLU(),\n",
        "            nn.MaxPool2d(2, 2),\n",
        "            nn.Conv2d(128, 256, kernel_size = 3, padding = 1, stride = 1),\n",
        "            nn.Flatten(),\n",
        "            nn.Linear(256 * 8 * 8, 512),\n",
        "            nn.ReLU(),\n",
        "            nn.Linear(512, 3)\n",
        "        )\n",
        "\n",
        "    def forward(self, xb):\n",
        "        out = self.network(xb)\n",
        "        return out"
      ],
      "metadata": {
        "id": "6zpSEEibQPNn"
      },
      "execution_count": null,
      "outputs": []
    },
    {
      "cell_type": "code",
      "source": [
        "for images, labels in train_dl:\n",
        "    model = CNN_Model().to(defaultDevice)\n",
        "    print(images.shape)\n",
        "    out = model(images)\n",
        "    print(out.shape)\n",
        "    break"
      ],
      "metadata": {
        "id": "01SENxkWUU55"
      },
      "execution_count": null,
      "outputs": []
    },
    {
      "cell_type": "markdown",
      "source": [
        "We changed the dimension from `3 Channel` RGB image with 32 * 32 Width and Height, Now we have three output neurons which outputs the three probability."
      ],
      "metadata": {
        "id": "F0TWqZxxBHX1"
      }
    },
    {
      "cell_type": "code",
      "source": [
        "def train_step(model, dataloader, loss_fn, optimizer):\n",
        "    model.train()\n",
        "    train_loss, train_acc = 0, 0\n",
        "    for batch, (X, y) in enumerate(dataloader):\n",
        "        y_pred = model(X)\n",
        "        loss = loss_fn(y_pred, y)\n",
        "        train_loss += loss.item() \n",
        "        optimizer.zero_grad()\n",
        "        loss.backward()\n",
        "        optimizer.step()\n",
        "        y_pred_class = torch.argmax(torch.softmax(y_pred, dim=1), dim=1)\n",
        "        train_acc += (y_pred_class == y).sum().item()/len(y_pred)\n",
        "    train_loss = train_loss / len(dataloader)\n",
        "    train_acc = train_acc / len(dataloader)\n",
        "    return train_loss, train_acc"
      ],
      "metadata": {
        "id": "fF3duPdiSy4b"
      },
      "execution_count": null,
      "outputs": []
    },
    {
      "cell_type": "code",
      "source": [
        "def val_step(model, dataloader, loss_fn):\n",
        "    model.eval() \n",
        "    val_loss, val_acc = 0, 0\n",
        "    with torch.inference_mode():\n",
        "        for batch, (X, y) in enumerate(dataloader):\n",
        "            test_pred_logits = model(X)\n",
        "            loss = loss_fn(test_pred_logits, y)\n",
        "            val_loss += loss.item()\n",
        "            test_pred_labels = test_pred_logits.argmax(dim=1)\n",
        "            val_acc += ((test_pred_labels == y).sum().item()/len(test_pred_labels))\n",
        "    val_loss = val_loss / len(dataloader)\n",
        "    val_acc = val_acc / len(dataloader)\n",
        "    return val_loss, val_acc"
      ],
      "metadata": {
        "id": "aWwmca-aSy1n"
      },
      "execution_count": null,
      "outputs": []
    },
    {
      "cell_type": "code",
      "source": [
        "def train(model,\n",
        "          train_dataloader,\n",
        "          test_dataloader,\n",
        "          optimizer,\n",
        "          loss_fn = nn.CrossEntropyLoss(),\n",
        "          epochs = 5):\n",
        "    results = {\"train_loss\": [],\n",
        "        \"train_acc\": [],\n",
        "        \"val_loss\": [],\n",
        "        \"val_acc\": []\n",
        "    }\n",
        "    \n",
        "    for epoch in range(epochs):\n",
        "        train_loss, train_acc = train_step(model=model,\n",
        "                                           dataloader=train_dataloader,\n",
        "                                           loss_fn=loss_fn,\n",
        "                                           optimizer=optimizer)\n",
        "        val_loss, val_acc = val_step(model=model,\n",
        "            dataloader=test_dataloader,\n",
        "            loss_fn=loss_fn)\n",
        "        print(\n",
        "            f\"Epoch: {epoch+1} | \"\n",
        "            f\"train_loss: {train_loss:.4f} | \"\n",
        "            f\"train_acc: {train_acc:.4f} | \"\n",
        "            f\"val_loss: {val_loss:.4f} | \"\n",
        "            f\"val_acc: {val_acc:.4f}\"\n",
        "        )\n",
        "        results[\"train_loss\"].append(train_loss)\n",
        "        results[\"train_acc\"].append(train_acc)\n",
        "        results[\"vall_loss\"].append(val_loss)\n",
        "        results[\"vall_acc\"].append(val_acc)\n",
        "    return results"
      ],
      "metadata": {
        "id": "Qhev3FILSyzP"
      },
      "execution_count": null,
      "outputs": []
    },
    {
      "cell_type": "code",
      "source": [
        "cnnModel = CNN_Model().to(defaultDevice)"
      ],
      "metadata": {
        "id": "T7vgD7FbSywl"
      },
      "execution_count": null,
      "outputs": []
    },
    {
      "cell_type": "code",
      "source": [
        "epochs = 5\n",
        "loss_fn = nn.CrossEntropyLoss()\n",
        "optimizer = torch.optim.Adam(params=cnnModel.parameters(), lr=0.001)"
      ],
      "metadata": {
        "id": "ZD1hyKrTSyt2"
      },
      "execution_count": null,
      "outputs": []
    },
    {
      "cell_type": "code",
      "source": [
        "cnnModelResults = train(model = cnnModel, \n",
        "                        train_dataloader = train_dl,\n",
        "                        test_dataloader = val_dl,\n",
        "                        optimizer = optimizer,\n",
        "                        loss_fn = loss_fn, \n",
        "                        epochs = epochs)"
      ],
      "metadata": {
        "id": "3dLbbfZEXxUz"
      },
      "execution_count": null,
      "outputs": []
    },
    {
      "cell_type": "code",
      "source": [],
      "metadata": {
        "id": "Tm4qGQbBYmXA"
      },
      "execution_count": null,
      "outputs": []
    }
  ],
  "metadata": {
    "accelerator": "GPU",
    "colab": {
      "provenance": []
    },
    "gpuClass": "standard",
    "kernelspec": {
      "display_name": "Python 3",
      "language": "python",
      "name": "python3"
    },
    "language_info": {
      "codemirror_mode": {
        "name": "ipython",
        "version": 3
      },
      "file_extension": ".py",
      "mimetype": "text/x-python",
      "name": "python",
      "nbconvert_exporter": "python",
      "pygments_lexer": "ipython3",
      "version": "3.7.6"
    }
  },
  "nbformat": 4,
  "nbformat_minor": 0
}